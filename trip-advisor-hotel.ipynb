{
 "cells": [
  {
   "cell_type": "code",
   "execution_count": 1,
   "id": "00036b1c",
   "metadata": {
    "_cell_guid": "b1076dfc-b9ad-4769-8c92-a6c4dae69d19",
    "_uuid": "8f2839f25d086af736a60e9eeb907d3b93b6e0e5",
    "execution": {
     "iopub.execute_input": "2022-01-18T19:36:48.682075Z",
     "iopub.status.busy": "2022-01-18T19:36:48.680848Z",
     "iopub.status.idle": "2022-01-18T19:36:48.704219Z",
     "shell.execute_reply": "2022-01-18T19:36:48.703550Z",
     "shell.execute_reply.started": "2022-01-18T19:29:09.170006Z"
    },
    "papermill": {
     "duration": 0.03464,
     "end_time": "2022-01-18T19:36:48.704437",
     "exception": false,
     "start_time": "2022-01-18T19:36:48.669797",
     "status": "completed"
    },
    "tags": []
   },
   "outputs": [
    {
     "name": "stdout",
     "output_type": "stream",
     "text": [
      "/kaggle/input/trip-advisor-hotel-reviews/tripadvisor_hotel_reviews.csv\n"
     ]
    }
   ],
   "source": [
    "# This Python 3 environment comes with many helpful analytics libraries installed\n",
    "# It is defined by the kaggle/python Docker image: https://github.com/kaggle/docker-python\n",
    "# For example, here's several helpful packages to load\n",
    "\n",
    "import numpy as np # linear algebra\n",
    "import pandas as pd # data processing, CSV file I/O (e.g. pd.read_csv)\n",
    "import re \n",
    "# Input data files are available in the read-only \"../input/\" directory\n",
    "# For example, running this (by clicking run or pressing Shift+Enter) will list all files under the input directory\n",
    "\n",
    "import os\n",
    "for dirname, _, filenames in os.walk('/kaggle/input'):\n",
    "    for filename in filenames:\n",
    "        print(os.path.join(dirname, filename))\n",
    "\n",
    "# You can write up to 20GB to the current directory (/kaggle/working/) that gets preserved as output when you create a version using \"Save & Run All\" \n",
    "# You can also write temporary files to /kaggle/temp/, but they won't be saved outside of the current session"
   ]
  },
  {
   "cell_type": "code",
   "execution_count": 2,
   "id": "21d8d1b5",
   "metadata": {
    "execution": {
     "iopub.execute_input": "2022-01-18T19:36:48.722766Z",
     "iopub.status.busy": "2022-01-18T19:36:48.722143Z",
     "iopub.status.idle": "2022-01-18T19:36:49.172287Z",
     "shell.execute_reply": "2022-01-18T19:36:49.171666Z",
     "shell.execute_reply.started": "2022-01-18T19:29:10.648562Z"
    },
    "papermill": {
     "duration": 0.460121,
     "end_time": "2022-01-18T19:36:49.172459",
     "exception": false,
     "start_time": "2022-01-18T19:36:48.712338",
     "status": "completed"
    },
    "tags": []
   },
   "outputs": [
    {
     "data": {
      "text/html": [
       "<div>\n",
       "<style scoped>\n",
       "    .dataframe tbody tr th:only-of-type {\n",
       "        vertical-align: middle;\n",
       "    }\n",
       "\n",
       "    .dataframe tbody tr th {\n",
       "        vertical-align: top;\n",
       "    }\n",
       "\n",
       "    .dataframe thead th {\n",
       "        text-align: right;\n",
       "    }\n",
       "</style>\n",
       "<table border=\"1\" class=\"dataframe\">\n",
       "  <thead>\n",
       "    <tr style=\"text-align: right;\">\n",
       "      <th></th>\n",
       "      <th>Review</th>\n",
       "      <th>Rating</th>\n",
       "    </tr>\n",
       "  </thead>\n",
       "  <tbody>\n",
       "    <tr>\n",
       "      <th>0</th>\n",
       "      <td>nice hotel expensive parking got good deal sta...</td>\n",
       "      <td>4</td>\n",
       "    </tr>\n",
       "    <tr>\n",
       "      <th>1</th>\n",
       "      <td>ok nothing special charge diamond member hilto...</td>\n",
       "      <td>2</td>\n",
       "    </tr>\n",
       "    <tr>\n",
       "      <th>2</th>\n",
       "      <td>nice rooms not 4* experience hotel monaco seat...</td>\n",
       "      <td>3</td>\n",
       "    </tr>\n",
       "  </tbody>\n",
       "</table>\n",
       "</div>"
      ],
      "text/plain": [
       "                                              Review  Rating\n",
       "0  nice hotel expensive parking got good deal sta...       4\n",
       "1  ok nothing special charge diamond member hilto...       2\n",
       "2  nice rooms not 4* experience hotel monaco seat...       3"
      ]
     },
     "execution_count": 2,
     "metadata": {},
     "output_type": "execute_result"
    }
   ],
   "source": [
    "ipF = \"../input/trip-advisor-hotel-reviews/tripadvisor_hotel_reviews.csv\"\n",
    "df = pd.read_csv(ipF)\n",
    "df.head(3)"
   ]
  },
  {
   "cell_type": "code",
   "execution_count": 3,
   "id": "741a62c4",
   "metadata": {
    "execution": {
     "iopub.execute_input": "2022-01-18T19:36:49.201351Z",
     "iopub.status.busy": "2022-01-18T19:36:49.200586Z",
     "iopub.status.idle": "2022-01-18T19:36:49.239468Z",
     "shell.execute_reply": "2022-01-18T19:36:49.238667Z",
     "shell.execute_reply.started": "2022-01-18T19:29:11.890064Z"
    },
    "papermill": {
     "duration": 0.059744,
     "end_time": "2022-01-18T19:36:49.239670",
     "exception": false,
     "start_time": "2022-01-18T19:36:49.179926",
     "status": "completed"
    },
    "tags": []
   },
   "outputs": [
    {
     "data": {
      "text/html": [
       "<div>\n",
       "<style scoped>\n",
       "    .dataframe tbody tr th:only-of-type {\n",
       "        vertical-align: middle;\n",
       "    }\n",
       "\n",
       "    .dataframe tbody tr th {\n",
       "        vertical-align: top;\n",
       "    }\n",
       "\n",
       "    .dataframe thead th {\n",
       "        text-align: right;\n",
       "    }\n",
       "</style>\n",
       "<table border=\"1\" class=\"dataframe\">\n",
       "  <thead>\n",
       "    <tr style=\"text-align: right;\">\n",
       "      <th></th>\n",
       "      <th>Review</th>\n",
       "      <th>Rating</th>\n",
       "    </tr>\n",
       "  </thead>\n",
       "  <tbody>\n",
       "    <tr>\n",
       "      <th>0</th>\n",
       "      <td>nice hotel expensive parking got good deal sta...</td>\n",
       "      <td>2</td>\n",
       "    </tr>\n",
       "    <tr>\n",
       "      <th>1</th>\n",
       "      <td>ok nothing special charge diamond member hilto...</td>\n",
       "      <td>0</td>\n",
       "    </tr>\n",
       "    <tr>\n",
       "      <th>2</th>\n",
       "      <td>nice rooms not 4* experience hotel monaco seat...</td>\n",
       "      <td>1</td>\n",
       "    </tr>\n",
       "    <tr>\n",
       "      <th>3</th>\n",
       "      <td>unique, great stay, wonderful time hotel monac...</td>\n",
       "      <td>2</td>\n",
       "    </tr>\n",
       "    <tr>\n",
       "      <th>4</th>\n",
       "      <td>great stay great stay, went seahawk game aweso...</td>\n",
       "      <td>2</td>\n",
       "    </tr>\n",
       "  </tbody>\n",
       "</table>\n",
       "</div>"
      ],
      "text/plain": [
       "                                              Review  Rating\n",
       "0  nice hotel expensive parking got good deal sta...       2\n",
       "1  ok nothing special charge diamond member hilto...       0\n",
       "2  nice rooms not 4* experience hotel monaco seat...       1\n",
       "3  unique, great stay, wonderful time hotel monac...       2\n",
       "4  great stay great stay, went seahawk game aweso...       2"
      ]
     },
     "execution_count": 3,
     "metadata": {},
     "output_type": "execute_result"
    }
   ],
   "source": [
    "#Convert ‘Rating’ column of the dataframe to 0s (negative), 1s (neutral) and 2s (positive)\n",
    "\n",
    "#tmp.iloc[1,1]\n",
    "df = df.dropna()\n",
    "df2 = df.copy()\n",
    "\n",
    "'''\n",
    "# with loop\n",
    "for i in range(len(x)):\n",
    "    a = df2.Rating.iloc[i]\n",
    "    if(a == 1 or a == 2):\n",
    "        a = 0\n",
    "    elif(a == 3):\n",
    "        a = 1\n",
    "    else:\n",
    "        a = 2 \n",
    "    df2.Rating.iloc[i] = a\n",
    "'''\n",
    "\n",
    "#without loop\n",
    "def ratein3(a):\n",
    "    if(a == 1 or a == 2):\n",
    "        a = 0\n",
    "    elif(a == 3):\n",
    "        a = 1\n",
    "    else:\n",
    "        a = 2 \n",
    "    return a\n",
    "\n",
    "df2.Rating = df2.Rating.map(ratein3)\n",
    "df2.head()"
   ]
  },
  {
   "cell_type": "code",
   "execution_count": 4,
   "id": "6f12f807",
   "metadata": {
    "execution": {
     "iopub.execute_input": "2022-01-18T19:36:49.316081Z",
     "iopub.status.busy": "2022-01-18T19:36:49.280219Z",
     "iopub.status.idle": "2022-01-18T19:36:50.792977Z",
     "shell.execute_reply": "2022-01-18T19:36:50.793489Z",
     "shell.execute_reply.started": "2022-01-18T19:29:12.662193Z"
    },
    "papermill": {
     "duration": 1.545389,
     "end_time": "2022-01-18T19:36:50.793820",
     "exception": false,
     "start_time": "2022-01-18T19:36:49.248431",
     "status": "completed"
    },
    "tags": []
   },
   "outputs": [
    {
     "data": {
      "text/html": [
       "<div>\n",
       "<style scoped>\n",
       "    .dataframe tbody tr th:only-of-type {\n",
       "        vertical-align: middle;\n",
       "    }\n",
       "\n",
       "    .dataframe tbody tr th {\n",
       "        vertical-align: top;\n",
       "    }\n",
       "\n",
       "    .dataframe thead th {\n",
       "        text-align: right;\n",
       "    }\n",
       "</style>\n",
       "<table border=\"1\" class=\"dataframe\">\n",
       "  <thead>\n",
       "    <tr style=\"text-align: right;\">\n",
       "      <th></th>\n",
       "      <th>Review</th>\n",
       "      <th>Rating</th>\n",
       "    </tr>\n",
       "  </thead>\n",
       "  <tbody>\n",
       "    <tr>\n",
       "      <th>0</th>\n",
       "      <td>nice1hotel1expensive1parking1got1good1deal1sta...</td>\n",
       "      <td>2</td>\n",
       "    </tr>\n",
       "    <tr>\n",
       "      <th>1</th>\n",
       "      <td>ok1nothing1special1charge1diamond1member1hilto...</td>\n",
       "      <td>0</td>\n",
       "    </tr>\n",
       "  </tbody>\n",
       "</table>\n",
       "</div>"
      ],
      "text/plain": [
       "                                              Review  Rating\n",
       "0  nice1hotel1expensive1parking1got1good1deal1sta...       2\n",
       "1  ok1nothing1special1charge1diamond1member1hilto...       0"
      ]
     },
     "execution_count": 4,
     "metadata": {},
     "output_type": "execute_result"
    }
   ],
   "source": [
    "def my_F(x):\n",
    "    # x will be perticuler review in string \n",
    "    x = x.lower()\n",
    "    x = re.sub(\"[^0-9a-zA-Z]+\", \"1\", x) # substitute all the non alphabetical characters with spaace\n",
    "    x = re.sub(r'http\\S+', '', x) # remove all the hyperlinks if present in the text\n",
    "    x = re.sub(' +', ' ', x) # to remove consecutive spaces \n",
    "    return x\n",
    "    \n",
    "df2.Review = df2.Review.map(my_F)\n",
    "\n",
    "df2.head(2)"
   ]
  },
  {
   "cell_type": "code",
   "execution_count": null,
   "id": "38867289",
   "metadata": {
    "papermill": {
     "duration": 0.008469,
     "end_time": "2022-01-18T19:36:50.812189",
     "exception": false,
     "start_time": "2022-01-18T19:36:50.803720",
     "status": "completed"
    },
    "tags": []
   },
   "outputs": [],
   "source": []
  },
  {
   "cell_type": "code",
   "execution_count": null,
   "id": "b19bb84b",
   "metadata": {
    "papermill": {
     "duration": 0.008208,
     "end_time": "2022-01-18T19:36:50.828784",
     "exception": false,
     "start_time": "2022-01-18T19:36:50.820576",
     "status": "completed"
    },
    "tags": []
   },
   "outputs": [],
   "source": []
  },
  {
   "cell_type": "code",
   "execution_count": null,
   "id": "a0e5a393",
   "metadata": {
    "papermill": {
     "duration": 0.007892,
     "end_time": "2022-01-18T19:36:50.845116",
     "exception": false,
     "start_time": "2022-01-18T19:36:50.837224",
     "status": "completed"
    },
    "tags": []
   },
   "outputs": [],
   "source": []
  }
 ],
 "metadata": {
  "kernelspec": {
   "display_name": "Python 3",
   "language": "python",
   "name": "python3"
  },
  "language_info": {
   "codemirror_mode": {
    "name": "ipython",
    "version": 3
   },
   "file_extension": ".py",
   "mimetype": "text/x-python",
   "name": "python",
   "nbconvert_exporter": "python",
   "pygments_lexer": "ipython3",
   "version": "3.7.12"
  },
  "papermill": {
   "default_parameters": {},
   "duration": 12.587389,
   "end_time": "2022-01-18T19:36:51.463381",
   "environment_variables": {},
   "exception": null,
   "input_path": "__notebook__.ipynb",
   "output_path": "__notebook__.ipynb",
   "parameters": {},
   "start_time": "2022-01-18T19:36:38.875992",
   "version": "2.3.3"
  }
 },
 "nbformat": 4,
 "nbformat_minor": 5
}
